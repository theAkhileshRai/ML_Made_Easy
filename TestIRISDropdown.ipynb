{
  "nbformat": 4,
  "nbformat_minor": 0,
  "metadata": {
    "colab": {
      "name": "TestIRISDropdown.ipynb",
      "provenance": [],
      "authorship_tag": "ABX9TyOOXgo0mqcfdZkLKUvspxth",
      "include_colab_link": true
    },
    "kernelspec": {
      "name": "python3",
      "display_name": "Python 3"
    }
  },
  "cells": [
    {
      "cell_type": "markdown",
      "metadata": {
        "id": "view-in-github",
        "colab_type": "text"
      },
      "source": [
        "<a href=\"https://colab.research.google.com/github/theAkhileshRai/ML_Made_Easy/blob/master/TestIRISDropdown.ipynb\" target=\"_parent\"><img src=\"https://colab.research.google.com/assets/colab-badge.svg\" alt=\"Open In Colab\"/></a>"
      ]
    },
    {
      "cell_type": "code",
      "metadata": {
        "id": "g2Nb9O0rY5Dd",
        "colab_type": "code",
        "colab": {}
      },
      "source": [
        "from ipywidgets import *\n",
        "import numpy as np\n",
        "import seaborn.apionly as sns\n",
        "df = sns.load_dataset('iris')\n",
        "\n",
        "#identifies the columns in the dataframe\n",
        "df_cols = list(df.columns.values)\n",
        "df_cols.insert(0, 'Select')\n",
        "str_cols = list(df.select_dtypes(include=['object']).columns.values)\n",
        "str_cols.insert(0, 'Select')\n",
        "\n",
        "#plot function\n",
        "def set_plot(headers_x, headers_y, plotType):\n",
        "    data = df\n",
        "    #plotting functions to be added\n",
        "\n",
        "#function to specify the type of plot based on users input\n",
        "def set_plotType(_):\n",
        "    data = df\n",
        "        #If no selection has been made\n",
        "    if headers_x.value == 'Select' or headers_y.value == 'Select':\n",
        "        plotType.options = list(['Make Selection'])\n",
        "    else:\n",
        "        #if x and y are both numeric\n",
        "        if data[headers_x.value].dtype == np.float and data[headers_y.value].dtype == np.float:\n",
        "            plotType.options = list(['NumericVsNumeric'])\n",
        "            #if x is categorical and y is numeric\n",
        "        elif data[headers_x.value].dtype == np.object and data[headers_y.value].dtype == np.float:\n",
        "            plotType.options = list(['CategoricalVsNumeric'])\n",
        "        elif data[headers_x.value].dtype == np.float and data[headers_y.value].dtype == np.object:\n",
        "            plotType.options = list(['NumericalVsCategoric'])\n",
        "\n",
        "\n",
        "\n",
        "#define widgets\n",
        "headers_x = widgets.Dropdown(\n",
        "        options=df_cols,\n",
        "        value=df_cols[0],\n",
        "        description='X'\n",
        "    )\n",
        "\n",
        "headers_x.set_title  = 'headers_x'\n",
        "\n",
        "headers_y = widgets.Dropdown(\n",
        "        options=df_cols,\n",
        "        value=df_cols[0],\n",
        "        description='Y'\n",
        "    )\n",
        "\n",
        "headers_y.set_title  = 'headers_y'\n",
        "\n",
        "plotType = widgets.Dropdown(\n",
        "        options=[],\n",
        "        description='Plot Type'\n",
        "    )\n",
        "\n",
        "headers_x.observe(set_plotType)\n",
        "headers_y.observe(set_plotType)\n",
        "\n",
        "\n",
        "#interact function\n",
        "interact(set_plot, headers_x = headers_x, headers_y = headers_y, plotType = plotType)"
      ],
      "execution_count": 0,
      "outputs": []
    }
  ]
}